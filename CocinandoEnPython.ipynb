{
  "nbformat": 4,
  "nbformat_minor": 0,
  "metadata": {
    "colab": {
      "name": "CocinandoEnPython.ipynb",
      "provenance": [],
      "collapsed_sections": [],
      "authorship_tag": "ABX9TyPXBXeyoJd/cMuNIsLfCZzp",
      "include_colab_link": true
    },
    "kernelspec": {
      "name": "python3",
      "display_name": "Python 3"
    }
  },
  "cells": [
    {
      "cell_type": "markdown",
      "metadata": {
        "id": "view-in-github",
        "colab_type": "text"
      },
      "source": [
        "<a href=\"https://colab.research.google.com/github/FreyNell/Apuntes/blob/master/CocinandoEnPython.ipynb\" target=\"_parent\"><img src=\"https://colab.research.google.com/assets/colab-badge.svg\" alt=\"Open In Colab\"/></a>"
      ]
    },
    {
      "cell_type": "markdown",
      "metadata": {
        "id": "svpM1QYK_Xtj"
      },
      "source": [
        "##Una guía de cocina para elaborar esas recetas sabrosongas con Python."
      ]
    },
    {
      "cell_type": "markdown",
      "metadata": {
        "id": "cMwO1BLh_n62"
      },
      "source": [
        "1. Asignacion de valores a variables. \"bar\" es el valor que se guardará en foo, y donde sea que utilicemos foo, el valor por el que será reemplazado, es por \"bar\""
      ]
    },
    {
      "cell_type": "code",
      "metadata": {
        "id": "iXrUU9cN_ZJL",
        "outputId": "5a3c7bdc-f363-48bc-88b2-d20edde16148",
        "colab": {
          "base_uri": "https://localhost:8080/",
          "height": 51
        }
      },
      "source": [
        "foo = \"bar\"\n",
        "print(foo)\n",
        "print(\"Hola a todos, me encuentro en el\",foo)"
      ],
      "execution_count": null,
      "outputs": [
        {
          "output_type": "stream",
          "text": [
            "bar\n",
            "Hola a todos, me encuentro en el bar\n"
          ],
          "name": "stdout"
        }
      ]
    },
    {
      "cell_type": "markdown",
      "metadata": {
        "id": "CRFqARfkAR8X"
      },
      "source": [
        "2. Tipos de variables y las operaciones que se pueden hacer con ellas.\n",
        "\n",
        "#**Numeros**"
      ]
    },
    {
      "cell_type": "code",
      "metadata": {
        "id": "NYIE1EXmyKpD",
        "outputId": "c1d3f95e-7065-4a69-d5a1-6a067f47fe46",
        "colab": {
          "base_uri": "https://localhost:8080/",
          "height": 34
        }
      },
      "source": [
        "a = 1 # Guardamos 1 en a.\n",
        "b = 2 # Guardamos 2 en b.\n",
        "c = a + b # Guardamos en c la suma de a más b.\n",
        "print(\"El resultado de la suma es:\",c)"
      ],
      "execution_count": null,
      "outputs": [
        {
          "output_type": "stream",
          "text": [
            "El resultado de la suma es: 3\n"
          ],
          "name": "stdout"
        }
      ]
    },
    {
      "cell_type": "code",
      "metadata": {
        "id": "2PuWYBYZA7uw",
        "outputId": "e3227132-2419-40f6-d890-2e3e14488776",
        "colab": {
          "base_uri": "https://localhost:8080/",
          "height": 34
        }
      },
      "source": [
        "a = 1\n",
        "b = 2\n",
        "c = a  - b \n",
        "print(\"El resultado de la resta es: \",c)"
      ],
      "execution_count": null,
      "outputs": [
        {
          "output_type": "stream",
          "text": [
            "El resultado de la resta es:  -1\n"
          ],
          "name": "stdout"
        }
      ]
    },
    {
      "cell_type": "code",
      "metadata": {
        "id": "cMMHtMMuBI-h",
        "outputId": "c96afb70-cd08-4f42-c13d-65dfdb5b9cfa",
        "colab": {
          "base_uri": "https://localhost:8080/",
          "height": 34
        }
      },
      "source": [
        "a = 1\n",
        "b = 2\n",
        "c = a * b\n",
        "print(\"El resultado de la multiplicación es: \",c)"
      ],
      "execution_count": null,
      "outputs": [
        {
          "output_type": "stream",
          "text": [
            "El resultado de la multiplicación es:  2\n"
          ],
          "name": "stdout"
        }
      ]
    },
    {
      "cell_type": "code",
      "metadata": {
        "id": "TqaBxJ0yYXHr",
        "outputId": "f1b4a504-ff4d-4ec9-dddd-963d2e425244",
        "colab": {
          "base_uri": "https://localhost:8080/",
          "height": 34
        }
      },
      "source": [
        "a = 1 \n",
        "b = 2\n",
        "c = a / b\n",
        "print(\"El resultado de la multiplicación es: \",c)"
      ],
      "execution_count": null,
      "outputs": [
        {
          "output_type": "stream",
          "text": [
            "El resultado de la multiplicación es:  0.5\n"
          ],
          "name": "stdout"
        }
      ]
    },
    {
      "cell_type": "code",
      "metadata": {
        "id": "RGRGtYwnYrdK",
        "outputId": "abb6c867-add3-4be7-9a47-f6ac2376d445",
        "colab": {
          "base_uri": "https://localhost:8080/",
          "height": 34
        }
      },
      "source": [
        "a = 1\n",
        "b = 2 \n",
        "c = a % b\n",
        "print(\"El resultado de sacar el residuo es: \",c)"
      ],
      "execution_count": null,
      "outputs": [
        {
          "output_type": "stream",
          "text": [
            "El resultado de sacar el residuo es:  1\n"
          ],
          "name": "stdout"
        }
      ]
    },
    {
      "cell_type": "markdown",
      "metadata": {
        "id": "An0sl_VcdKAn"
      },
      "source": [
        "#**Strings**"
      ]
    },
    {
      "cell_type": "code",
      "metadata": {
        "id": "fiqLuW5NcRli",
        "outputId": "90703d17-8e9c-4642-e1ae-9dc64f60a13f",
        "colab": {
          "base_uri": "https://localhost:8080/",
          "height": 34
        }
      },
      "source": [
        "texto = \"Mi mamá me mima.\"\n",
        "print(texto)"
      ],
      "execution_count": 10,
      "outputs": [
        {
          "output_type": "stream",
          "text": [
            "Mi mamá me mima.\n"
          ],
          "name": "stdout"
        }
      ]
    },
    {
      "cell_type": "code",
      "metadata": {
        "id": "uXbjG4MNga6W",
        "outputId": "5f180ad9-1cfc-46d9-a617-843bafe6d55c",
        "colab": {
          "base_uri": "https://localhost:8080/",
          "height": 34
        }
      },
      "source": [
        "texto = \"Mi mamá me mima.\"\n",
        "texto = texto.lower()\n",
        "print(\"El texto en minuscula es \\\"\",texto,\"\\\"\")"
      ],
      "execution_count": 16,
      "outputs": [
        {
          "output_type": "stream",
          "text": [
            "El texto en minuscula es \" mi mamá me mima. \"\n"
          ],
          "name": "stdout"
        }
      ]
    },
    {
      "cell_type": "code",
      "metadata": {
        "id": "ean_Lw1ygolW",
        "outputId": "3e8890b9-d2e4-4ff8-d9c6-eef1d37f121e",
        "colab": {
          "base_uri": "https://localhost:8080/",
          "height": 34
        }
      },
      "source": [
        "texto = \"Mi mamá me mima.\"\n",
        "texto = texto.upper()\n",
        "print(\"El texto en Mayúscula es \\\"\",texto,\"\\\"\")"
      ],
      "execution_count": 17,
      "outputs": [
        {
          "output_type": "stream",
          "text": [
            "El texto en Mayúscula es \" MI MAMÁ ME MIMA. \"\n"
          ],
          "name": "stdout"
        }
      ]
    },
    {
      "cell_type": "code",
      "metadata": {
        "id": "6NYsXhS7gzdS",
        "outputId": "999089fd-3cdc-447a-8eff-f683a2f4beb7",
        "colab": {
          "base_uri": "https://localhost:8080/",
          "height": 34
        }
      },
      "source": [
        "texto1 = \"Mi mamá me mima.\"\n",
        "texto2 = \"Yo mimo a mi Mamá.\"\n",
        "textoFinal = texto1 + texto2\n",
        "print(\"El texto concatenado es: \\\"\",textoFinal,\"\\\"\")"
      ],
      "execution_count": 18,
      "outputs": [
        {
          "output_type": "stream",
          "text": [
            "El texto concatenado es: \" Mi mamá me mima.Yo mimo a mi Mamá. \"\n"
          ],
          "name": "stdout"
        }
      ]
    },
    {
      "cell_type": "markdown",
      "metadata": {
        "id": "q_fmllGYhIXO"
      },
      "source": [
        "#**Listas**"
      ]
    },
    {
      "cell_type": "markdown",
      "metadata": {
        "id": "-yNWMpWmsrAX"
      },
      "source": [
        "Las listas pueden tener elementos de cualquier tipo (String, Numeros, Otras listas).\n",
        "\n",
        "Algunas operaciones son las siguientes:\n",
        "\n",
        "**Agregar con append()**"
      ]
    },
    {
      "cell_type": "code",
      "metadata": {
        "id": "QEavqi8qrY3P",
        "outputId": "3097210d-331b-4e9b-f55a-a125302f8249",
        "colab": {
          "base_uri": "https://localhost:8080/",
          "height": 85
        }
      },
      "source": [
        "lista = [] # Esto es una lista vacía.\n",
        "print(lista)\n",
        "\n",
        "# Con append añadimos elementos a una lista de a uno en uno.\n",
        "\n",
        "lista.append(\"a\") # Agregas el string \"a\".\n",
        "print(lista)\n",
        "\n",
        "lista.append(10) # Agregas el numero 10  a la lista.\n",
        "print(lista)\n",
        "\n",
        "lista.append([1,\"a\",2000]) # Dentro de una lista se pueden añadir listas.\n",
        "print(lista)"
      ],
      "execution_count": 34,
      "outputs": [
        {
          "output_type": "stream",
          "text": [
            "[]\n",
            "['a']\n",
            "['a', 10]\n",
            "['a', 10, [1, 'a', 2000]]\n"
          ],
          "name": "stdout"
        }
      ]
    },
    {
      "cell_type": "markdown",
      "metadata": {
        "id": "7NddKyRuxKKH"
      },
      "source": [
        "**Posiciones**"
      ]
    },
    {
      "cell_type": "code",
      "metadata": {
        "id": "6bRjRqvst507",
        "outputId": "591aef0d-ba30-44ad-a7c4-a811a4093d25",
        "colab": {
          "base_uri": "https://localhost:8080/",
          "height": 68
        }
      },
      "source": [
        "print(\"Posición cero: \",lista[0]) # Obtener el primer elemento de la lista. (Posición cero porque en python las listas empiezan desde cero.)\n",
        "print(\"Posición uno: \",lista[1]) # Obtener el segundo elemento de la lista. (Posición uno porque en python las listas empiezan desde cero.)\n",
        "print(\"Posición dos: \",lista[2]) # Obtener el tercer elemento de la lista. (Posición dos porque en python las listas empiezan desde cero.)\n"
      ],
      "execution_count": 35,
      "outputs": [
        {
          "output_type": "stream",
          "text": [
            "Posición cero:  a\n",
            "Posición uno:  10\n",
            "Posición dos:  [1, 'a', 2000]\n"
          ],
          "name": "stdout"
        }
      ]
    },
    {
      "cell_type": "code",
      "metadata": {
        "id": "mGj3FMQuvAkf",
        "outputId": "9e97073d-1c0b-457b-b042-5cfdd432b0f5",
        "colab": {
          "base_uri": "https://localhost:8080/",
          "height": 68
        }
      },
      "source": [
        "# Si ingresamos numeros negativos, recorreremos la lista en el sentido inverso, empezando por el final.\n",
        "print(\"Primera posicion hacia atrás: \",lista[-1]) \n",
        "print(\"Segunda posicion hacia atrás: \",lista[-2]) \n",
        "print(\"Tercera posicion hacia atrás: \",lista[-3]) "
      ],
      "execution_count": 36,
      "outputs": [
        {
          "output_type": "stream",
          "text": [
            "Primera posicion hacia atrás:  [1, 'a', 2000]\n",
            "Segunda posicion hacia atrás:  10\n",
            "Tercera posicion hacia atrás:  a\n"
          ],
          "name": "stdout"
        }
      ]
    },
    {
      "cell_type": "code",
      "metadata": {
        "id": "tHcCobpGuni_",
        "outputId": "6505abce-e2a8-42e1-f0c9-1d0bb8ee0ffd",
        "colab": {
          "base_uri": "https://localhost:8080/",
          "height": 34
        }
      },
      "source": [
        "# Para saber cuantos elementos tiene una lista, usamos la funcion len() de python.\n",
        "print( len(lista) )"
      ],
      "execution_count": 37,
      "outputs": [
        {
          "output_type": "stream",
          "text": [
            "3\n"
          ],
          "name": "stdout"
        }
      ]
    },
    {
      "cell_type": "markdown",
      "metadata": {
        "id": "f1OxWdKUxMpA"
      },
      "source": [
        "Para las listas, podemos cambiar el valor de alguna de sus posiciones"
      ]
    },
    {
      "cell_type": "code",
      "metadata": {
        "id": "s3XboupVxGZa",
        "outputId": "39f8b91f-90ff-455d-a132-1bdb61301f2c",
        "colab": {
          "base_uri": "https://localhost:8080/",
          "height": 34
        }
      },
      "source": [
        "lista[1] = \"b\"\n",
        "print(lista)"
      ],
      "execution_count": 38,
      "outputs": [
        {
          "output_type": "stream",
          "text": [
            "['a', 'b', [1, 'a', 2000]]\n"
          ],
          "name": "stdout"
        }
      ]
    },
    {
      "cell_type": "markdown",
      "metadata": {
        "id": "dcFyLAKs9SfI"
      },
      "source": [
        "**Con .count() podemos saber cuantas veces aparece un elemento en la lista.**"
      ]
    },
    {
      "cell_type": "code",
      "metadata": {
        "id": "z1bu-Lsp5lnH",
        "outputId": "d88a6bb2-3923-43d0-81e5-cf1e5854eb0d",
        "colab": {
          "base_uri": "https://localhost:8080/",
          "height": 34
        }
      },
      "source": [
        "ejemploCount = [1,2,3,4,1,1,1,4,5,6,3,2,1]\n",
        "print(ejemploCount.count(1))"
      ],
      "execution_count": 42,
      "outputs": [
        {
          "output_type": "stream",
          "text": [
            "5\n"
          ],
          "name": "stdout"
        }
      ]
    },
    {
      "cell_type": "markdown",
      "metadata": {
        "id": "zuGZIfqi9jk9"
      },
      "source": [
        "Con .index() podemos saber la posicion de un elemento en la lista."
      ]
    },
    {
      "cell_type": "code",
      "metadata": {
        "id": "4CsQaPP99e1H",
        "outputId": "0c42db6c-36f9-46f9-ec0f-f0b64f1b28ef",
        "colab": {
          "base_uri": "https://localhost:8080/",
          "height": 34
        }
      },
      "source": [
        "lista = [\"a\",\"b\",\"c\",\"d\"]\n",
        "print( lista.index(\"c\") )"
      ],
      "execution_count": 43,
      "outputs": [
        {
          "output_type": "stream",
          "text": [
            "2\n"
          ],
          "name": "stdout"
        }
      ]
    },
    {
      "cell_type": "markdown",
      "metadata": {
        "id": "B8HddqjhtrRz"
      },
      "source": [
        "**pop() Sacar el último elemento de la lista si no se le pasa  ningún parametro numerico dentro del parentesis.**"
      ]
    },
    {
      "cell_type": "code",
      "metadata": {
        "id": "MfLE1QqW98tF",
        "outputId": "4f26f56b-869e-4925-96ba-bdf97cefc4ca",
        "colab": {
          "base_uri": "https://localhost:8080/",
          "height": 85
        }
      },
      "source": [
        "lista = [\"a\",\"b\",\"c\",\"d\"]\n",
        "print(lista.pop()) #el ultimo es el elemento \"d\" y al sacarlo lo eliminamos de la lista\n",
        "print(lista) # lista despues de haberle hecho pop\n",
        "print(lista.pop(1)) #sacar el elemento de la posición 1 .\n",
        "print(lista) #lista despues de haberle sacado el elemento en la posicion 1"
      ],
      "execution_count": 49,
      "outputs": [
        {
          "output_type": "stream",
          "text": [
            "d\n",
            "['a', 'b', 'c']\n",
            "b\n",
            "['a', 'c']\n"
          ],
          "name": "stdout"
        }
      ]
    },
    {
      "cell_type": "markdown",
      "metadata": {
        "id": "Q5SThNP9f1KR"
      },
      "source": [
        "El texto se puede comportar como una lista."
      ]
    },
    {
      "cell_type": "code",
      "metadata": {
        "id": "lrgUegAGfxv0",
        "outputId": "650da141-422b-45c6-84fe-5fe30f6e24c7",
        "colab": {
          "base_uri": "https://localhost:8080/",
          "height": 102
        }
      },
      "source": [
        "texto = \"Mi mamá me mima.\"\n",
        "print(texto[0]) # seleccionar la posición cero, primera posición.\n",
        "print(texto[1]) # seleccionar la posicion uno, segunda posición.\n",
        "print(texto[1:]) # seleccionar desde la posicion uno hasta el final de la lista\n",
        "print(texto[4:7]) # seleccionar desde la posición cuatro hasta la posicion 6.\n",
        "print(texto[0:5]) #seleccionar desde la posición 0 a la posición 5."
      ],
      "execution_count": 15,
      "outputs": [
        {
          "output_type": "stream",
          "text": [
            "M\n",
            "i\n",
            "i mamá me mima.\n",
            "amá\n",
            "Mi ma\n"
          ],
          "name": "stdout"
        }
      ]
    },
    {
      "cell_type": "markdown",
      "metadata": {
        "id": "lzT4XhdtDVBN"
      },
      "source": [
        "##Ciclos"
      ]
    },
    {
      "cell_type": "markdown",
      "metadata": {
        "id": "yZrGwf8ADOb1"
      },
      "source": [
        "Los ciclos FOR en python recorren una lista  a partir de un elemento iterador"
      ]
    },
    {
      "cell_type": "code",
      "metadata": {
        "id": "p5BseG-6DXyv",
        "outputId": "813ccec1-830a-4aaa-d0d4-0b0cbb92b27d",
        "colab": {
          "base_uri": "https://localhost:8080/",
          "height": 119
        }
      },
      "source": [
        "listaIterable = [1,2,3,4,5,6]\n",
        "for i in listaIterable:\n",
        "  print(i) # i es el iterador, se va asignando cada valor de la lista por iteración."
      ],
      "execution_count": 54,
      "outputs": [
        {
          "output_type": "stream",
          "text": [
            "1\n",
            "2\n",
            "3\n",
            "4\n",
            "5\n",
            "6\n"
          ],
          "name": "stdout"
        }
      ]
    },
    {
      "cell_type": "code",
      "metadata": {
        "id": "zQxeJ70dDh-f",
        "outputId": "4f618e5a-8dda-48a5-81b8-46e576ae1a62",
        "colab": {
          "base_uri": "https://localhost:8080/",
          "height": 425
        }
      },
      "source": [
        "# Podemos tener ciclos FOR con posición y elemento\n",
        "listaIterable = [\"a\", (1,2), \"b\", 2000, \"hola\", [\"a\",\"b\",\"c\"], [1,2,3], [\"a\",1,\"b\"]]\n",
        "for posicion, elemento in enumerate(listaIterable):\n",
        "  print(\"Posición: \", posicion)\n",
        "  print(\"Eleménto: \", elemento)\n",
        "  print(\"-----------------\")\n",
        "\n"
      ],
      "execution_count": 59,
      "outputs": [
        {
          "output_type": "stream",
          "text": [
            "Posición:  0\n",
            "Eleménto:  a\n",
            "-----------------\n",
            "Posición:  1\n",
            "Eleménto:  (1, 2)\n",
            "-----------------\n",
            "Posición:  2\n",
            "Eleménto:  b\n",
            "-----------------\n",
            "Posición:  3\n",
            "Eleménto:  2000\n",
            "-----------------\n",
            "Posición:  4\n",
            "Eleménto:  hola\n",
            "-----------------\n",
            "Posición:  5\n",
            "Eleménto:  ['a', 'b', 'c']\n",
            "-----------------\n",
            "Posición:  6\n",
            "Eleménto:  [1, 2, 3]\n",
            "-----------------\n",
            "Posición:  7\n",
            "Eleménto:  ['a', 1, 'b']\n",
            "-----------------\n"
          ],
          "name": "stdout"
        }
      ]
    },
    {
      "cell_type": "markdown",
      "metadata": {
        "id": "s-dvZ97FtPDk"
      },
      "source": [
        "Hacer una lista de listas da espacios de 2 dimensiones como matrices.\n",
        "\n",
        "En una matriz, los elementos de cada fila son las columnas."
      ]
    },
    {
      "cell_type": "code",
      "metadata": {
        "id": "8QyfskRSf8od",
        "outputId": "cb0401b8-5ed4-4685-86b2-1e478fb0f69f",
        "colab": {
          "base_uri": "https://localhost:8080/",
          "height": 68
        }
      },
      "source": [
        "matriz = []\n",
        "\n",
        "fila1 = [10,20,30,40]\n",
        "fila2 = [53,62,70,80]\n",
        "fila3 = [50,23,60,89]\n",
        "fila4 = [90,91,92,93]\n",
        "\n",
        "matriz.append(fila1)\n",
        "matriz.append(fila2)\n",
        "matriz.append(fila3)\n",
        "matriz.append(fila4)\n",
        "\n",
        "print(\"Matriz:\",matriz) #matriz de 4 filas por 4 columnas\n",
        "print(\"Fila 0 Columna 0:\" ,matriz[0][0])\n",
        "print(\"Fila 2 Columna 3:\" ,matriz[2][3])\n",
        "\n",
        "\n"
      ],
      "execution_count": 64,
      "outputs": [
        {
          "output_type": "stream",
          "text": [
            "Matriz: [[10, 20, 30, 40], [53, 62, 70, 80], [50, 23, 60, 89], [90, 91, 92, 93]]\n",
            "Fila 0 Columna 0: 10\n",
            "Fila 2 Columna 3: 89\n"
          ],
          "name": "stdout"
        }
      ]
    },
    {
      "cell_type": "markdown",
      "metadata": {
        "id": "MkPs0CROGqOh"
      },
      "source": [
        "Para recorrer una matriz se puede hacer uso de la siguiente combinación de ciclos anidados ( un ciclo para las filas y un ciclo para las columnas)"
      ]
    },
    {
      "cell_type": "code",
      "metadata": {
        "id": "c2q1NIAfCwd-",
        "outputId": "df5868f1-1239-4c8c-a0f2-8c9975b9b6f6",
        "colab": {
          "base_uri": "https://localhost:8080/",
          "height": 289
        }
      },
      "source": [
        "for fila in matriz:\n",
        "  for columna in fila:\n",
        "    print(columna)"
      ],
      "execution_count": 65,
      "outputs": [
        {
          "output_type": "stream",
          "text": [
            "10\n",
            "20\n",
            "30\n",
            "40\n",
            "53\n",
            "62\n",
            "70\n",
            "80\n",
            "50\n",
            "23\n",
            "60\n",
            "89\n",
            "90\n",
            "91\n",
            "92\n",
            "93\n"
          ],
          "name": "stdout"
        }
      ]
    },
    {
      "cell_type": "markdown",
      "metadata": {
        "id": "ahVlDvmVHBPd"
      },
      "source": [
        "Incluso, si queremos verlo mas claro, podemos verlo asi:"
      ]
    },
    {
      "cell_type": "code",
      "metadata": {
        "id": "BQcsbvDtG6j4",
        "outputId": "ea062816-5f53-4205-c14c-77ce15e10ad3",
        "colab": {
          "base_uri": "https://localhost:8080/",
          "height": 374
        }
      },
      "source": [
        "# Matriz pintada de forma bonita.\n",
        "for fila in matriz:\n",
        "  print(fila)  \n",
        "\n",
        "print( \"--------------\" )\n",
        "\n",
        "for indiceFila, fila in enumerate(matriz):\n",
        "  for indiceColumna, columna in enumerate(fila):\n",
        "    print(\"Posición [\",indiceFila,\",\",indiceColumna,\"] => \",columna)\n",
        "\n"
      ],
      "execution_count": 67,
      "outputs": [
        {
          "output_type": "stream",
          "text": [
            "[10, 20, 30, 40]\n",
            "[53, 62, 70, 80]\n",
            "[50, 23, 60, 89]\n",
            "[90, 91, 92, 93]\n",
            "--------------\n",
            "Posición [ 0 , 0 ] =>  10\n",
            "Posición [ 0 , 1 ] =>  20\n",
            "Posición [ 0 , 2 ] =>  30\n",
            "Posición [ 0 , 3 ] =>  40\n",
            "Posición [ 1 , 0 ] =>  53\n",
            "Posición [ 1 , 1 ] =>  62\n",
            "Posición [ 1 , 2 ] =>  70\n",
            "Posición [ 1 , 3 ] =>  80\n",
            "Posición [ 2 , 0 ] =>  50\n",
            "Posición [ 2 , 1 ] =>  23\n",
            "Posición [ 2 , 2 ] =>  60\n",
            "Posición [ 2 , 3 ] =>  89\n",
            "Posición [ 3 , 0 ] =>  90\n",
            "Posición [ 3 , 1 ] =>  91\n",
            "Posición [ 3 , 2 ] =>  92\n",
            "Posición [ 3 , 3 ] =>  93\n"
          ],
          "name": "stdout"
        }
      ]
    },
    {
      "cell_type": "code",
      "metadata": {
        "id": "PTDa8tkzHiDN"
      },
      "source": [
        ""
      ],
      "execution_count": null,
      "outputs": []
    }
  ]
}